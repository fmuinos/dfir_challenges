{
 "cells": [
  {
   "cell_type": "markdown",
   "id": "atomic-infection",
   "metadata": {},
   "source": [
    "# Case 2: Compromised Hadoop Cluster"
   ]
  },
  {
   "cell_type": "markdown",
   "id": "royal-title",
   "metadata": {},
   "source": [
    "**Source:** https://github.com/ashemery/LinuxForensics"
   ]
  },
  {
   "cell_type": "code",
   "execution_count": null,
   "id": "alien-missouri",
   "metadata": {},
   "outputs": [],
   "source": []
  }
 ],
 "metadata": {
  "kernelspec": {
   "display_name": "Python 3",
   "language": "python",
   "name": "python3"
  },
  "language_info": {
   "codemirror_mode": {
    "name": "ipython",
    "version": 3
   },
   "file_extension": ".py",
   "mimetype": "text/x-python",
   "name": "python",
   "nbconvert_exporter": "python",
   "pygments_lexer": "ipython3",
   "version": "3.6.9"
  }
 },
 "nbformat": 4,
 "nbformat_minor": 5
}
