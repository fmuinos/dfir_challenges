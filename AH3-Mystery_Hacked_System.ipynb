{
 "cells": [
  {
   "cell_type": "markdown",
   "id": "increased-scratch",
   "metadata": {},
   "source": [
    "# Mystery Hacked System : Ali Hadi"
   ]
  },
  {
   "cell_type": "markdown",
   "id": "impossible-disney",
   "metadata": {},
   "source": [
    "\n",
    "One day an IT dept. guy/gal came to work to find the message below written in a file on his/her system! He/Her immediately reported that to you. \n",
    "\n",
    "Hello master,\n",
    "Catch me, if you can!\n",
    "\n",
    "Best, regards\n",
    "Your admin ;)\n",
    "\n",
    "**Now you must:**\n",
    "* How was this system hacked? (What is your hypothesis)\n",
    "* What evidence did you find that proves your hypothesis?\n",
    "* How did you approach and solve the case? (write a report)\n",
    "* Anything you would like to add?"
   ]
  },
  {
   "cell_type": "code",
   "execution_count": null,
   "id": "complex-contest",
   "metadata": {},
   "outputs": [],
   "source": []
  }
 ],
 "metadata": {
  "kernelspec": {
   "display_name": "Python 3",
   "language": "python",
   "name": "python3"
  },
  "language_info": {
   "codemirror_mode": {
    "name": "ipython",
    "version": 3
   },
   "file_extension": ".py",
   "mimetype": "text/x-python",
   "name": "python",
   "nbconvert_exporter": "python",
   "pygments_lexer": "ipython3",
   "version": "3.6.9"
  }
 },
 "nbformat": 4,
 "nbformat_minor": 5
}
