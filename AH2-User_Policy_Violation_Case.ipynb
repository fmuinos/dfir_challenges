{
 "cells": [
  {
   "cell_type": "markdown",
   "id": "eastern-serum",
   "metadata": {},
   "source": [
    "# User Policy Violation Case: Ali Hadi"
   ]
  },
  {
   "cell_type": "markdown",
   "id": "stone-ratio",
   "metadata": {},
   "source": [
    "**Source:** https://www.ashemery.com/dfir.html"
   ]
  },
  {
   "cell_type": "markdown",
   "id": "assigned-nurse",
   "metadata": {},
   "source": [
    "This image covers most if not all of the recent system artifacts that you might encounter. \n",
    "\n",
    "You can use the image to learn the following:\n",
    "\n",
    "* File Carving, Custom Carving, and Keyword Searching\n",
    "* File System Forensics - NTFS\n",
    "* Deep Windows Registry Forensics: System and User Hives\n",
    "  - SYSTEM\n",
    "  - SOFTWARE\n",
    "  - SAM\n",
    "  - NTUSER.DAT\n",
    "  - USRCLASS.DAT\n",
    "* Other Windows Files: LNK, Jump Lists, Libraries, etc\n",
    "* Application Compatibility Cache (ShimCache)\n",
    "* Analyzing Windows Search (Search Charm)\n",
    "* Analyzing Thumb Caches\n",
    "* Analyzing Prefetch Files\n",
    "* Analyzing Recycle Bin(s)\n",
    "* USB Forensics\n",
    "* Events Analysis\n",
    "* Email Forensics: Web and Outlook\n",
    "* Browser Forensics: Internet Explorer and Google Chrome\n",
    "* Skype Forensics\n"
   ]
  },
  {
   "cell_type": "code",
   "execution_count": null,
   "id": "amber-florida",
   "metadata": {},
   "outputs": [],
   "source": []
  }
 ],
 "metadata": {
  "kernelspec": {
   "display_name": "Python 3",
   "language": "python",
   "name": "python3"
  },
  "language_info": {
   "codemirror_mode": {
    "name": "ipython",
    "version": 3
   },
   "file_extension": ".py",
   "mimetype": "text/x-python",
   "name": "python",
   "nbconvert_exporter": "python",
   "pygments_lexer": "ipython3",
   "version": "3.6.9"
  }
 },
 "nbformat": 4,
 "nbformat_minor": 5
}
