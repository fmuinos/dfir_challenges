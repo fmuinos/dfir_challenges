{
 "cells": [
  {
   "cell_type": "markdown",
   "id": "elect-associate",
   "metadata": {},
   "source": [
    "# Digital Forensics with DataScience and ML"
   ]
  },
  {
   "cell_type": "markdown",
   "id": "public-african",
   "metadata": {},
   "source": [
    "Resources:\n",
    "* book: Digital forensics with open source tools\n",
    "* IMG: Jean (resources/evidences/digitalcorpora/jean/nps-2008-jean.E01, nps-2008-jean.E02\n",
    "\n",
    "Requirements\n",
    "* sleuthkit (sudo apt install sleuthkit)\n",
    "* volatility (pip install volatility3)\n",
    "* log2timeline.py (https://cloudyforensics.medium.com/log2timeline-tutorial-d769994c3570)\n",
    "* ewfmount\n",
    "* foremost\n",
    "* regripper (https://blog.dfir.fi/tools/2020/02/19/install-regripper.html)\n",
    "* evtxparse.pl\n",
    "* evtxexport (sudo apt install libevtx-utils)\n",
    "* exiftool (sudo apt install libimage-exiftool-perl)\n",
    "* lifer (https://github.com/Paul-Tew/lifer)https://ismailtasdelen.medium.com/windows-lnk-file-analysis-in-forensic-it-reviews-75b3dfd49f36\n"
   ]
  },
  {
   "cell_type": "code",
   "execution_count": null,
   "id": "tight-waters",
   "metadata": {},
   "outputs": [],
   "source": [
    "# imports\n"
   ]
  },
  {
   "cell_type": "code",
   "execution_count": 3,
   "id": "three-fusion",
   "metadata": {},
   "outputs": [],
   "source": [
    "# Variables\n",
    "mount = \"/mnt/hgfs/Resources\"\n",
    "path = mount + \"/evidences/digitalcorpora/jean/\"\n",
    "img = path + \"/nps-2008-jean.E0*\"\n",
    "output = path + \"output/\""
   ]
  },
  {
   "cell_type": "code",
   "execution_count": 6,
   "id": "canadian-seminar",
   "metadata": {},
   "outputs": [
    {
     "name": "stdout",
     "output_type": "stream",
     "text": [
      "carving  M57-Jean.pdf  nps-2008-jean.E01  nps-2008-jean.E02  output\n"
     ]
    }
   ],
   "source": [
    "!ls $path"
   ]
  },
  {
   "cell_type": "code",
   "execution_count": 7,
   "id": "infinite-pursuit",
   "metadata": {},
   "outputs": [
    {
     "name": "stdout",
     "output_type": "stream",
     "text": [
      "DOS Partition Table\n",
      "Offset Sector: 0\n",
      "Units are in 512-byte sectors\n",
      "\n",
      "      Slot      Start        End          Length       Description\n",
      "000:  Meta      0000000000   0000000000   0000000001   Primary Table (#0)\n",
      "001:  -------   0000000000   0000000062   0000000063   Unallocated\n",
      "002:  000:000   0000000063   0020948759   0020948697   NTFS / exFAT (0x07)\n",
      "003:  -------   0020948760   0020971519   0000022760   Unallocated\n"
     ]
    }
   ],
   "source": [
    "!mmls $img"
   ]
  },
  {
   "cell_type": "code",
   "execution_count": 8,
   "id": "narrative-death",
   "metadata": {},
   "outputs": [
    {
     "name": "stdout",
     "output_type": "stream",
     "text": [
      "FILE SYSTEM INFORMATION\n",
      "--------------------------------------------\n",
      "File System Type: NTFS\n",
      "Volume Serial Number: 7E745008744FC21F\n",
      "OEM Name: NTFS    \n",
      "Version: Windows XP\n",
      "\n",
      "METADATA INFORMATION\n",
      "--------------------------------------------\n",
      "First Cluster of MFT: 786432\n",
      "First Cluster of MFT Mirror: 1309293\n",
      "Size of MFT Entries: 1024 bytes\n",
      "Size of Index Records: 4096 bytes\n",
      "Range: 0 - 32848\n",
      "Root Directory: 5\n",
      "\n",
      "CONTENT INFORMATION\n",
      "--------------------------------------------\n",
      "Sector Size: 512\n",
      "Cluster Size: 4096\n",
      "Total Cluster Range: 0 - 2618586\n",
      "Total Sector Range: 0 - 20948695\n",
      "\n",
      "$AttrDef Attribute Values:\n",
      "$STANDARD_INFORMATION (16)   Size: 48-72   Flags: Resident\n",
      "$ATTRIBUTE_LIST (32)   Size: No Limit   Flags: Non-resident\n",
      "$FILE_NAME (48)   Size: 68-578   Flags: Resident,Index\n",
      "$OBJECT_ID (64)   Size: 0-256   Flags: Resident\n",
      "$SECURITY_DESCRIPTOR (80)   Size: No Limit   Flags: Non-resident\n",
      "$VOLUME_NAME (96)   Size: 2-256   Flags: Resident\n",
      "$VOLUME_INFORMATION (112)   Size: 12-12   Flags: Resident\n",
      "$DATA (128)   Size: No Limit   Flags: \n",
      "$INDEX_ROOT (144)   Size: No Limit   Flags: Resident\n",
      "$INDEX_ALLOCATION (160)   Size: No Limit   Flags: Non-resident\n",
      "$BITMAP (176)   Size: No Limit   Flags: Non-resident\n",
      "$REPARSE_POINT (192)   Size: 0-16384   Flags: Non-resident\n",
      "$EA_INFORMATION (208)   Size: 8-8   Flags: Resident\n",
      "$EA (224)   Size: 0-65536   Flags: \n",
      "$LOGGED_UTILITY_STREAM (256)   Size: 0-65536   Flags: Non-resident\n"
     ]
    }
   ],
   "source": [
    "!fsstat -o 63 $img"
   ]
  },
  {
   "cell_type": "code",
   "execution_count": 9,
   "id": "international-hello",
   "metadata": {},
   "outputs": [
    {
     "name": "stdout",
     "output_type": "stream",
     "text": [
      "r/r 4-128-4:\t$AttrDef\n",
      "r/r 8-128-2:\t$BadClus\n",
      "r/r 8-128-1:\t$BadClus:$Bad\n",
      "r/r 6-128-1:\t$Bitmap\n",
      "r/r 7-128-1:\t$Boot\n",
      "d/d 11-144-4:\t$Extend\n",
      "r/r 2-128-1:\t$LogFile\n",
      "r/r 0-128-1:\t$MFT\n",
      "r/r 1-128-1:\t$MFTMirr\n",
      "r/r 9-144-17:\t$Secure:$SDH\n",
      "r/r 9-144-16:\t$Secure:$SII\n",
      "r/r 9-128-18:\t$Secure:$SDS\n",
      "r/r 10-128-1:\t$UpCase\n",
      "r/r 3-128-3:\t$Volume\n",
      "r/r 7451-128-1:\tAUTOEXEC.BAT\n",
      "r/r 3513-128-3:\tboot.ini\n",
      "r/r 7450-128-1:\tCONFIG.SYS\n",
      "d/d 3519-144-6:\tDocuments and Settings\n",
      "r/r 7452-128-1:\tIO.SYS\n",
      "r/r 27624-128-3:\tIPH.PH\n",
      "r/r 7453-128-1:\tMSDOS.SYS\n",
      "r/r 3485-128-3:\tNTDETECT.COM\n",
      "r/r 3481-128-3:\tntldr\n",
      "r/r 27-128-1:\tpagefile.sys\n",
      "d/d 3999-144-6:\tProgram Files\n",
      "d/d 23827-144-1:\tRECYCLER\n",
      "d/d 3522-144-6:\tSystem Volume Information\n",
      "d/d 28-144-6:\tWINDOWS\n",
      "V/V 32848:\t$OrphanFiles\n"
     ]
    }
   ],
   "source": [
    "!fls -o 63 $img"
   ]
  },
  {
   "cell_type": "code",
   "execution_count": 11,
   "id": "medieval-vancouver",
   "metadata": {},
   "outputs": [],
   "source": [
    "!fls -o 63 -r -m \"/\" $img > $output/npm.bodyfile"
   ]
  },
  {
   "cell_type": "code",
   "execution_count": 12,
   "id": "wireless-spiritual",
   "metadata": {},
   "outputs": [],
   "source": [
    "!mactime -b $output/npm.bodyfile -d > $output/npm.timeline.csv"
   ]
  },
  {
   "cell_type": "code",
   "execution_count": 13,
   "id": "vietnamese-benefit",
   "metadata": {},
   "outputs": [
    {
     "name": "stdout",
     "output_type": "stream",
     "text": [
      "ERROR: /mnt/hgfs/Resources/evidences/digitalcorpora/jean/carving is not empty\n",
      " \tPlease specify another directory or run with -T.\n"
     ]
    }
   ],
   "source": [
    "# carving\n",
    "!foremost -v -i $img -o $path/carving"
   ]
  },
  {
   "cell_type": "code",
   "execution_count": 14,
   "id": "falling-formula",
   "metadata": {},
   "outputs": [
    {
     "name": "stdout",
     "output_type": "stream",
     "text": [
      "audit.txt  gif\tpng  wav\n"
     ]
    }
   ],
   "source": [
    "!ls $path/carving"
   ]
  },
  {
   "cell_type": "markdown",
   "id": "seven-special",
   "metadata": {},
   "source": [
    "## Mount Evidences"
   ]
  },
  {
   "cell_type": "code",
   "execution_count": null,
   "id": "behavioral-breakdown",
   "metadata": {},
   "outputs": [],
   "source": [
    "# Mounting DD images\n",
    "!mount -o loop,ro,show_sys_files,streams_interface=windows imagefile.dd /mnt/windows_mount"
   ]
  },
  {
   "cell_type": "code",
   "execution_count": null,
   "id": "mysterious-disease",
   "metadata": {},
   "outputs": [],
   "source": [
    "# Mounting E01 images\n",
    "#!ewfmount image.E01 mountpoint\n",
    "!ewfmount $img /mnt/ewf\n",
    "#sudo mount -o loop,ro,show_sys_files,streams_interface=windows /mnt/ewf/ewf1 /mnt/windows_mount\n"
   ]
  },
  {
   "cell_type": "code",
   "execution_count": null,
   "id": "given-studio",
   "metadata": {},
   "outputs": [],
   "source": [
    "# Creating Super Timelines\n",
    "log2timeline.py plaso.dump datafile.img\n",
    "psort.py -z \"EST5EDT\" -o L2tcsv plaso.dump \"date > 'YYYY-MM-DD HH:MM:SS' AND date < 'YYYY-MM-DD HH:MM:SS'\" > supertimeline.csv"
   ]
  },
  {
   "cell_type": "code",
   "execution_count": null,
   "id": "olympic-there",
   "metadata": {},
   "outputs": [],
   "source": [
    "# Memory\n",
    "vol -f memdump.mem windows.info\n",
    "# roge processes detection\n",
    "vol.py psxview\n",
    "vol.py pstree\n",
    "# code injection detection\n",
    "vol.py malfind --dump-dir ./output_dir\n",
    "vol.py ldrmodules -p 868 -v\n",
    "# dump suspicious processes\n",
    "vol.py dlldump --dump-dir=./output -r metsrv\n",
    "vol.py moddup --dump-dir=./output -r gaopdx\n",
    "vol.py procdump --dump-dir=./output -p 868\n",
    "vol.py memdump --dump-dir=./output -p 868\n",
    "vol.py dumpfiles --dump-dir=./output -r \\\\.exe\n"
   ]
  },
  {
   "cell_type": "code",
   "execution_count": null,
   "id": "proof-punch",
   "metadata": {},
   "outputs": [],
   "source": [
    "# Registry - regripper\n"
   ]
  },
  {
   "cell_type": "code",
   "execution_count": null,
   "id": "likely-design",
   "metadata": {},
   "outputs": [],
   "source": [
    "# Event logs (evt, evtx)\n",
    "#evtxexport  \n",
    "#evtxinfo  "
   ]
  },
  {
   "cell_type": "code",
   "execution_count": null,
   "id": "surrounded-relative",
   "metadata": {},
   "outputs": [],
   "source": [
    "# Prefetch files (.pe)"
   ]
  },
  {
   "cell_type": "code",
   "execution_count": null,
   "id": "contemporary-taylor",
   "metadata": {},
   "outputs": [],
   "source": [
    "# shortcut files (.lnk)\n",
    "lifer -s ./Test/Test1.lnk"
   ]
  },
  {
   "cell_type": "code",
   "execution_count": null,
   "id": "earned-river",
   "metadata": {},
   "outputs": [],
   "source": [
    "# windows ejecutables analysis (PE)\n"
   ]
  }
 ],
 "metadata": {
  "kernelspec": {
   "display_name": "Python 3",
   "language": "python",
   "name": "python3"
  },
  "language_info": {
   "codemirror_mode": {
    "name": "ipython",
    "version": 3
   },
   "file_extension": ".py",
   "mimetype": "text/x-python",
   "name": "python",
   "nbconvert_exporter": "python",
   "pygments_lexer": "ipython3",
   "version": "3.8.5"
  }
 },
 "nbformat": 4,
 "nbformat_minor": 5
}
