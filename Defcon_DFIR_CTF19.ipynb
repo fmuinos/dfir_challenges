{
 "cells": [
  {
   "cell_type": "markdown",
   "id": "desirable-china",
   "metadata": {},
   "source": [
    "# Defcon DFIR CTF'19"
   ]
  },
  {
   "cell_type": "code",
   "execution_count": null,
   "id": "nearby-transport",
   "metadata": {},
   "outputs": [],
   "source": []
  }
 ],
 "metadata": {
  "kernelspec": {
   "display_name": "Python 3",
   "language": "python",
   "name": "python3"
  },
  "language_info": {
   "codemirror_mode": {
    "name": "ipython",
    "version": 3
   },
   "file_extension": ".py",
   "mimetype": "text/x-python",
   "name": "python",
   "nbconvert_exporter": "python",
   "pygments_lexer": "ipython3",
   "version": "3.6.9"
  }
 },
 "nbformat": 4,
 "nbformat_minor": 5
}
